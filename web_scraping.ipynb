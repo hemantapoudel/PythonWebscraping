{
 "cells": [
  {
   "cell_type": "code",
   "execution_count": 4,
   "metadata": {},
   "outputs": [
    {
     "name": "stdout",
     "output_type": "stream",
     "text": [
      "Get the latest update of corona virus cases in Nepal\n",
      "Enter the district name: jhapa\n",
      "\n",
      "District name: Jhapa\n",
      "Total cases: 520\n",
      "Total deaths: 1\n",
      "Total Recovered: 322\n"
     ]
    }
   ],
   "source": [
    "import requests\n",
    "import bs4\n",
    "print(\"Get the latest update of corona virus cases in Nepal\")\n",
    "district_name=input(\"Enter the district name: \")\n",
    "def covid19(district):\n",
    "    res = requests.get(\"https://kathmandupost.com/covid19\")\n",
    "    soup = bs4.BeautifulSoup(res.text, 'lxml')\n",
    "    index = -1\n",
    "    data=soup.select('tr td')\n",
    "    for i in range(len(data)):\n",
    "        if data[i].text.lower()==district.lower():\n",
    "            index=i\n",
    "            break\n",
    "    for i in range(4):\n",
    "        if(index==-1):\n",
    "            print(\"Please enter the correct district name\")\n",
    "            break\n",
    "        elif i == 0:\n",
    "            print(\"\\nDistrict name: \"+str(data[i+index].text))\n",
    "        elif i == 1:\n",
    "            print(\"Total cases: \"+str(data[i+index].text))\n",
    "        elif i == 2:\n",
    "            print(\"Total deaths: \"+str(data[i+index].text))\n",
    "        else:\n",
    "            print(\"Total Recovered: \"+str(data[i+index].text))\n",
    "        \n",
    "covid19(district_name)"
   ]
  }
 ],
 "metadata": {
  "kernelspec": {
   "display_name": "Python 3",
   "language": "python",
   "name": "python3"
  },
  "language_info": {
   "codemirror_mode": {
    "name": "ipython",
    "version": 3
   },
   "file_extension": ".py",
   "mimetype": "text/x-python",
   "name": "python",
   "nbconvert_exporter": "python",
   "pygments_lexer": "ipython3",
   "version": "3.7.4"
  }
 },
 "nbformat": 4,
 "nbformat_minor": 2
}
